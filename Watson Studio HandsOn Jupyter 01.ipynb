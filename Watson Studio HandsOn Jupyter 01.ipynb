{
 "cells": [
  {
   "cell_type": "markdown",
   "metadata": {},
   "source": [
    "# Watson Studio ハンズオン\n",
    "- 当章はWatson Studioの「プログラミング環境」であるJupyter Notebookを「**ざくっと雰囲気だけ**」体験いただくものです\n",
    "- 既にプログラム済みのPythonコードを順番に実行していくだけ、ですので簡単です\n",
    "- データ分析をグラフィカルに/手軽に行える **pixiedust**と**pandas_profiling**を使ってみます\n",
    "---"
   ]
  },
  {
   "cell_type": "markdown",
   "metadata": {},
   "source": [
    "##  Jupyter Notebookの操作方法\n",
    "-  四角い区切りを「**セル**」と呼びます\n",
    "- 「セル」にはコメント(マークダウン)とコードの２種類あります\n",
    "- セル（のコード)を実行するには「**Shift+Enter**」\n"
   ]
  },
  {
   "cell_type": "markdown",
   "metadata": {},
   "source": [
    "### セルの実行の練習\n",
    "- ちょっと練習してみましょう。下のセルをクリックし（緑の線で囲まれるはず）、「**Shift+Enter**」を押してください\n",
    "- うまくいけばPythonのprin文が実行され、セルの下に結果が表示されます\n"
   ]
  },
  {
   "cell_type": "code",
   "execution_count": null,
   "metadata": {},
   "outputs": [],
   "source": [
    "print(\"Hello, World!\")"
   ]
  },
  {
   "cell_type": "markdown",
   "metadata": {},
   "source": [
    "### うまく実行できましたか? では実際のハンズオンを始めましょう！\n",
    "---"
   ]
  },
  {
   "cell_type": "markdown",
   "metadata": {},
   "source": [
    "# 1. Pixiedustによる顧客離反データの分析\n",
    "- 当ハンズオンで利用した顧客離反のデータを分析します\n",
    "- 以下のセルを**Shit+Enter**で順番に実行していってください"
   ]
  },
  {
   "cell_type": "code",
   "execution_count": null,
   "metadata": {},
   "outputs": [],
   "source": [
    "# pixiedustのインストール\n",
    "!pip install pixiedust\n",
    "url=\"https://raw.githubusercontent.com/ishida330/WSHandsOn/master/customer_churn.csv\""
   ]
  },
  {
   "cell_type": "markdown",
   "metadata": {},
   "source": [
    "### 以下を実行すると、デフォルトではデータが表形式で表示されます\n",
    "#### データの視覚化も簡単です。たとえば男女の構成比をパイチャートで見てみましょう\n",
    "- 左上の表のアイコンの隣のグラフをアイコンをクリック\n",
    "- **Pie Chart**を選択\n",
    "- **Keys**に「**gender**」をドラッグ＆ドロップ\n",
    "- **Aggregation**は「**Count**」を選択\n",
    "- 「**OK**」ボタン"
   ]
  },
  {
   "cell_type": "code",
   "execution_count": null,
   "metadata": {
    "pixiedust": {
     "displayParams": {
      "aggregation": "COUNT",
      "handlerId": "pieChart",
      "keyFields": "Gender"
     }
    }
   },
   "outputs": [],
   "source": [
    "# 実行\n",
    "import pixiedust\n",
    "df = pixiedust.sampleData(url) # pandas or Spark Dataframe\n",
    "display(df)"
   ]
  },
  {
   "cell_type": "markdown",
   "metadata": {},
   "source": [
    "# Pandas_profilingによる顧客離反データの分析\n",
    "- Pandas_profilingはデータの傾向や統計情報を簡単に表示してくれる便利ツールです\n",
    "- 以下のセルを**Shit+Enter**で順番に実行していってください"
   ]
  },
  {
   "cell_type": "code",
   "execution_count": null,
   "metadata": {},
   "outputs": [],
   "source": [
    "# インストール\n",
    "!pip install pandas-profiling"
   ]
  },
  {
   "cell_type": "code",
   "execution_count": null,
   "metadata": {},
   "outputs": [],
   "source": [
    "import pandas as pd\n",
    "import pandas_profiling as pdp"
   ]
  },
  {
   "cell_type": "markdown",
   "metadata": {},
   "source": [
    "- 以下を実行すると、分析結果が表示されます"
   ]
  },
  {
   "cell_type": "code",
   "execution_count": null,
   "metadata": {},
   "outputs": [],
   "source": [
    "pdp.ProfileReport(df)"
   ]
  },
  {
   "cell_type": "code",
   "execution_count": null,
   "metadata": {},
   "outputs": [],
   "source": []
  }
 ],
 "metadata": {
  "kernelspec": {
   "display_name": "Python 3",
   "language": "python",
   "name": "python3"
  },
  "language_info": {
   "codemirror_mode": {
    "name": "ipython",
    "version": 3
   },
   "file_extension": ".py",
   "mimetype": "text/x-python",
   "name": "python",
   "nbconvert_exporter": "python",
   "pygments_lexer": "ipython3",
   "version": "3.6.4"
  }
 },
 "nbformat": 4,
 "nbformat_minor": 2
}
