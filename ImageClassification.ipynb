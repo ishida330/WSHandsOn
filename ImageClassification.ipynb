{
 "cells": [
  {
   "cell_type": "markdown",
   "metadata": {},
   "source": [
    "## Image Classification\n",
    "A quick example on how to use the visual recognition API to classify images"
   ]
  },
  {
   "cell_type": "code",
   "execution_count": null,
   "metadata": {},
   "outputs": [],
   "source": [
    "# Install the API\n",
    "!pip install --upgrade \"watson-developer-cloud>=1.4.0\""
   ]
  },
  {
   "cell_type": "markdown",
   "metadata": {},
   "source": [
    "### API key\n",
    "Make sure to change the API key to the value from your own service"
   ]
  },
  {
   "cell_type": "code",
   "execution_count": null,
   "metadata": {},
   "outputs": [],
   "source": [
    "# Replace the value of the credentials variable with the credentials from bluemix.net\n",
    "\n",
    "credentials = {\n",
    "  \"apikey\": \"43t1dCi_vk1A_X6mm5kcUNdNCryTM_YZAqvxNJqja7QW\",\n",
    "  \"iam_apikey_description\": \"Auto generated apikey during resource-key operation for Instance - crn:v1:bluemix:public:watson-vision-combined:us-south:a/e46675b7f1bf89b09b5badfb3bd4a7b5:0689e33a-867c-433a-bd2a-d8c02319af7b::\",\n",
    "  \"iam_apikey_name\": \"auto-generated-apikey-65263c4f-9eb6-4d5f-9737-fc89ac51f283\",\n",
    "  \"iam_role_crn\": \"crn:v1:bluemix:public:iam::::serviceRole:Writer\",\n",
    "  \"iam_serviceid_crn\": \"crn:v1:bluemix:public:iam-identity::a/e46675b7f1bf89b09b5badfb3bd4a7b5::serviceid:ServiceId-b9150d5b-c9ab-4806-80b3-6685f4dce204\",\n",
    "  \"url\": \"https://gateway.watsonplatform.net/visual-recognition/api\"\n",
    "}"
   ]
  },
  {
   "cell_type": "code",
   "execution_count": null,
   "metadata": {},
   "outputs": [],
   "source": [
    "# Create the interface object\n",
    "import json\n",
    "from watson_developer_cloud import VisualRecognitionV3\n",
    "\n",
    "visual_recognition = VisualRecognitionV3(\n",
    "    version='2018-03-19',\n",
    "    url=credentials['url'],\n",
    "    iam_apikey=credentials['apikey']\n",
    ")"
   ]
  },
  {
   "cell_type": "markdown",
   "metadata": {},
   "source": [
    "## Access local files\n",
    "The local files are stored in the IBM Cloud Object Storage.<br/>\n",
    "IBM COS supports a common set of S3 API functions for programmatic access. Watson Studio can do most of the work of defining the access to your files.\n",
    "\n",
    "Use the empty cell below to insert code, let's say from \"elantra.jpg\", using the \"Insert to code\" button and the \"Insert StreamingBody object\".\n",
    "\n",
    "Compare the code to the next cell and modify the next cell:<br/>\n",
    " - Replace the four lines starting at `ibm_api_key_id` with the ones you just created\n",
    " - Copy the value of Bucket in the client_xxx*.getobject() call and replace the value of bucket in the next cell"
   ]
  },
  {
   "cell_type": "code",
   "execution_count": null,
   "metadata": {},
   "outputs": [],
   "source": []
  },
  {
   "cell_type": "code",
   "execution_count": null,
   "metadata": {},
   "outputs": [],
   "source": [
    "import sys\n",
    "import types\n",
    "import pandas as pd\n",
    "from botocore.client import Config\n",
    "import ibm_boto3\n",
    "\n",
    "def __iter__(self): return 0\n",
    "\n",
    "# @hidden_cell\n",
    "# The following code accesses a file in your IBM Cloud Object Storage. It includes your credentials.\n",
    "# You might want to remove those credentials before you share your notebook.\n",
    "cos = ibm_boto3.client(service_name='s3',\n",
    "    ibm_api_key_id='_4IpLk7tjLaIoqYHLlUlzutjpTXtGZK1II8pfM2HmiWc',\n",
    "    ibm_auth_endpoint=\"https://iam.ng.bluemix.net/oidc/token\",\n",
    "    config=Config(signature_version='oauth'),\n",
    "    endpoint_url='https://s3-api.us-geo.objectstorage.service.networklayer.com')\n",
    "\n",
    "Bucket='tutorial2-donotdelete-pr-7vkp9vgdxzvssm'"
   ]
  },
  {
   "cell_type": "code",
   "execution_count": null,
   "metadata": {},
   "outputs": [],
   "source": [
    "# Create a zip files with the three images we want to classify\n",
    "res=cos.download_file(Bucket=Bucket,Key='orange-bmw-m3-coupe.jpg',Filename='orange-bmw-m3-coupe.jpg')\n",
    "res=cos.download_file(Bucket=Bucket,Key='volvo-x90-suv.jpg',Filename='volvo-x90-suv.jpg')\n",
    "res=cos.download_file(Bucket=Bucket,Key='elantra.jpg',Filename='elantra.jpg')\n",
    "!zip cars.zip *.jpg"
   ]
  },
  {
   "cell_type": "markdown",
   "metadata": {},
   "source": [
    "## Calling the classifier\n",
    "First, replace the classifier ID with the ID of your classifier\n",
    "\n",
    "You will execute the next two cells twice:\n",
    "- With the classifier_ids parameter commented out.<br/>\n",
    "This will show results with the generic classifier that is part of the service\n",
    "- Uncomment the classifier_ids and execute again<br/>\n",
    "This time, you get the results from your classifier\n",
    "\n",
    "Note that both classifier ('default' and your own) can be used at the same time."
   ]
  },
  {
   "cell_type": "code",
   "execution_count": null,
   "metadata": {},
   "outputs": [],
   "source": [
    "# Classify the images and print out partial results for readability\n",
    "car_1=open(\"./cars.zip\", 'rb')\n",
    "classes = visual_recognition.classify(\n",
    "        car_1,\n",
    "        parameters=json.dumps({\n",
    "            # 'classifier_ids': ['CarClassifier_973954551'],\n",
    "            'threshold': 0.1\n",
    "        })).get_result()\n",
    "# print(json.dumps(classes, indent=2))\n",
    "# Format the json output to be easier to read\n",
    "for i in range(3):\n",
    "    result = classes['images'][i]\n",
    "    print (\"Image: \" + result['image'])\n",
    "    print (\"Class: \" + str(result['classifiers'][0]['classes'][0]['class']))\n",
    "    print (\"Score: \" + str(result['classifiers'][0]['classes'][0]['score']))\n",
    "    print (\"Classifier: \" + str(result['classifiers'][0]['classifier_id']))\n",
    "    print(\" \")"
   ]
  },
  {
   "cell_type": "code",
   "execution_count": null,
   "metadata": {},
   "outputs": [],
   "source": [
    "# Print out the entire json file\n",
    "print(json.dumps(classes, indent=2))"
   ]
  },
  {
   "cell_type": "code",
   "execution_count": null,
   "metadata": {},
   "outputs": [],
   "source": [
    "# remove the local files create earlier\n",
    "!rm *.zip *.jpg"
   ]
  },
  {
   "cell_type": "code",
   "execution_count": null,
   "metadata": {},
   "outputs": [],
   "source": []
  }
 ],
 "metadata": {
  "kernelspec": {
   "display_name": "Python 3.5",
   "language": "python",
   "name": "python3"
  },
  "language_info": {
   "codemirror_mode": {
    "name": "ipython",
    "version": 3
   },
   "file_extension": ".py",
   "mimetype": "text/x-python",
   "name": "python",
   "nbconvert_exporter": "python",
   "pygments_lexer": "ipython3",
   "version": "3.5.5"
  }
 },
 "nbformat": 4,
 "nbformat_minor": 1
}
